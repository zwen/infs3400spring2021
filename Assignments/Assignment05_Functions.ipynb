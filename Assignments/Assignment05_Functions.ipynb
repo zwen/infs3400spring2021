{
 "cells": [
  {
   "cell_type": "markdown",
   "metadata": {},
   "source": [
    "### Functions\n",
    "\n",
    "Excel conveniently performs a task using a feature called formulas or functions. For example, to calculate the average of a range of data point, it does ```=average(A1:A10)``` where ```A1:A10``` is the range of 10 data point. All we do is to pass the range of the data point, then Excel will take care of the rest. \n",
    "\n",
    "In python, we can conveniently create or own functions to help us perform a short task. In this section, we are going to learn how to create a function through examples. \n"
   ]
  },
  {
   "cell_type": "markdown",
   "metadata": {},
   "source": [
    "#### Example 1. Calculate the Running Total between Any Two Given Integer Numbers"
   ]
  },
  {
   "cell_type": "code",
   "execution_count": null,
   "metadata": {},
   "outputs": [],
   "source": [
    "# We first define a function. This function is called printRunningTotal. \n",
    "# the function accepts two values: start, end\n",
    "\n",
    "def printRunningTotal(start, end):  #This is function head.     \n",
    "    \n",
    "    #This is the beginning of the function body. \n",
    "    \n",
    "    runningTotal = 0   \n",
    "    \n",
    "    #Whatever values will be passdown as start and end, it will be used to set the looping condition. \n",
    "    for i in range(start, end+1):\n",
    "        runningTotal += i\n",
    "    print(runningTotal)\n",
    "    \n",
    "    \n",
    "printRunningTotal(10, 122)\n"
   ]
  },
  {
   "cell_type": "markdown",
   "metadata": {},
   "source": [
    "Compare how is the example above differs from the one below."
   ]
  },
  {
   "cell_type": "code",
   "execution_count": null,
   "metadata": {},
   "outputs": [],
   "source": [
    "start = 10\n",
    "end = 122\n",
    "\n",
    "runningTotal = 0\n",
    "\n",
    "for i in range(start, end+1):\n",
    "    runningTotal += i\n",
    "    \n",
    "print(runningTotal)   "
   ]
  },
  {
   "cell_type": "markdown",
   "metadata": {},
   "source": [
    "#### Example 2. Get the Running Total between Any Two Given Integers\n",
    "\n",
    "I am writting correctly here. Previous, it was \"**print** the running total\". This time, it is \"**get** the running total\". See how it is slightly different than the previous one. \n"
   ]
  },
  {
   "cell_type": "code",
   "execution_count": null,
   "metadata": {},
   "outputs": [],
   "source": [
    "def getRunningTotal(start, end):  \n",
    "   \n",
    "    runningTotal = 0   \n",
    "    \n",
    "    for i in range(start, end+1):\n",
    "        runningTotal += i\n",
    "    \n",
    "    return runningTotal\n",
    "    \n",
    "total = getRunningTotal(10, 122)\n",
    "print(total)"
   ]
  },
  {
   "cell_type": "markdown",
   "metadata": {},
   "source": [
    "We can conveniently re-utilizes the functions created whenever we want by simply passdown two integers. "
   ]
  },
  {
   "cell_type": "code",
   "execution_count": null,
   "metadata": {},
   "outputs": [],
   "source": [
    "#If the following line reports error, that means, you did not run the code block 1. \n",
    "printRunningTotal(23, 90)\n",
    "printRunningTotal(24, 91)\n",
    "print(getRunningTotal(23, 90))\n",
    "print(getRunningTotal(24, 91))"
   ]
  },
  {
   "cell_type": "markdown",
   "metadata": {},
   "source": [
    "#### Example 3. Checking Palindrome\n",
    "A text string is called palindrome when they spell the same backward. For example, \"mom\", \"noon\", \"tattarrattat\". I am creating a function that can help you determine if a given text string is a palindrome or not. To keep things simple, let's just use lower letter cases."
   ]
  },
  {
   "cell_type": "code",
   "execution_count": null,
   "metadata": {},
   "outputs": [],
   "source": [
    "def checkPalindrome(text):\n",
    "    reversed = \"\"\n",
    "    for i in range(len(text)): \n",
    "        reversed += text[len(text) - i - 1]\n",
    "    \n",
    "    print(\"you entered: \", text)\n",
    "    print(\"in reverse it is:\", reversed)\n",
    "    \n",
    "    if text == reversed: \n",
    "        print(\"It is a palindrome.\")\n",
    "    else:\n",
    "        print(\"It is not a palindrome. \")\n",
    "    \n",
    "checkPalindrome(\"mom\")\n"
   ]
  }
 ],
 "metadata": {
  "kernelspec": {
   "display_name": "Python 3",
   "language": "python",
   "name": "python3"
  },
  "language_info": {
   "codemirror_mode": {
    "name": "ipython",
    "version": 3
   },
   "file_extension": ".py",
   "mimetype": "text/x-python",
   "name": "python",
   "nbconvert_exporter": "python",
   "pygments_lexer": "ipython3",
   "version": "3.8.5"
  }
 },
 "nbformat": 4,
 "nbformat_minor": 4
}
