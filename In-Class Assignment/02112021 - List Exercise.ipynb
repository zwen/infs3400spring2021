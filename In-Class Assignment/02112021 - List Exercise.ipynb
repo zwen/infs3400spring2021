{
 "cells": [
  {
   "cell_type": "markdown",
   "metadata": {},
   "source": [
    "### List Exercises\n",
    "\n",
    "#### 1. String to a Character List\n",
    "Please design a short program to split the word \"supercalifragilisticexpialidocious\" in to a list of character values.\n"
   ]
  },
  {
   "cell_type": "code",
   "execution_count": null,
   "metadata": {},
   "outputs": [],
   "source": [
    "word = \"supercalifragilisticexpialidocious\""
   ]
  },
  {
   "cell_type": "markdown",
   "metadata": {},
   "source": [
    "#### 2. Creating an ASCII code list\n",
    "\n",
    "Please review the ASCII code table below, find out all the characters that can be used as password. Then create a character list using those characters. (Hint: basically, eliminate everything until decimal 31 and 127. These are control code such as space, tab, and print screen that cannot be used as password character.) \n",
    "\n",
    "![](http://wiki.schoolcoders.com/img/gcse/data-representation/characters/ascii.png)"
   ]
  },
  {
   "cell_type": "code",
   "execution_count": null,
   "metadata": {},
   "outputs": [],
   "source": []
  }
 ],
 "metadata": {
  "kernelspec": {
   "display_name": "Python 3",
   "language": "python",
   "name": "python3"
  },
  "language_info": {
   "codemirror_mode": {
    "name": "ipython",
    "version": 3
   },
   "file_extension": ".py",
   "mimetype": "text/x-python",
   "name": "python",
   "nbconvert_exporter": "python",
   "pygments_lexer": "ipython3",
   "version": "3.8.5"
  }
 },
 "nbformat": 4,
 "nbformat_minor": 4
}
