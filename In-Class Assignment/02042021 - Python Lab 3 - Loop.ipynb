{
 "cells": [
  {
   "cell_type": "code",
   "execution_count": null,
   "metadata": {},
   "outputs": [],
   "source": [
    "# Finally, this is the most useful control structure in any programming language. \n",
    "# The big idea: The loop will allow you repeat the same steps, until certain condition returns \"True\".\n",
    "# There are two major loop type we can discuss: while loop and for loop"
   ]
  },
  {
   "cell_type": "code",
   "execution_count": null,
   "metadata": {},
   "outputs": [],
   "source": [
    "# 1. while Loop\n",
    "# Let's review our previous assignment and see what did it achieve.\n",
    "# Idea: repeating the loop body statements until the loop checking condition returns false."
   ]
  },
  {
   "cell_type": "code",
   "execution_count": null,
   "metadata": {},
   "outputs": [],
   "source": [
    "password = 21 #I changed the value to 21 for the convenience of the demonstration.\n",
    "guess = 0\n",
    "\n",
    "while guess != password:  #loop checking condition\n",
    "    print(guess)          #loop body statements line 1 (which isn't really necessary in this case.)\n",
    "    guess += 1            #loop body statements line 2, the line also controls the loop checking condition \n",
    "\n",
    "print(\"Password is \", guess)"
   ]
  },
  {
   "cell_type": "code",
   "execution_count": null,
   "metadata": {},
   "outputs": [],
   "source": [
    "# How many times did it loop to find out the password? "
   ]
  },
  {
   "cell_type": "code",
   "execution_count": null,
   "metadata": {},
   "outputs": [],
   "source": [
    "# Exercise: Can you use a similar approach to find out the sum of all the integer from 1 to 150, inclusive? "
   ]
  },
  {
   "cell_type": "code",
   "execution_count": null,
   "metadata": {},
   "outputs": [],
   "source": [
    "# 2. for Loop\n",
    "# for loop repeats based on the range it is specified. Note that it does not need any loop control variable."
   ]
  },
  {
   "cell_type": "code",
   "execution_count": null,
   "metadata": {},
   "outputs": [],
   "source": [
    "a = 0\n",
    "b = 150 + 1\n",
    "newTotal = 0\n",
    "for i in range(a, b):\n",
    "    newTotal += i\n",
    "print(newTotal)"
   ]
  },
  {
   "cell_type": "code",
   "execution_count": null,
   "metadata": {},
   "outputs": [],
   "source": [
    "# Can you explain what did the above code block achieve? "
   ]
  },
  {
   "cell_type": "code",
   "execution_count": null,
   "metadata": {},
   "outputs": [],
   "source": [
    "# Another interesting applications with a list of strings:"
   ]
  },
  {
   "cell_type": "code",
   "execution_count": null,
   "metadata": {},
   "outputs": [],
   "source": [
    "for day in (\"Sunday\", \"Monday\", \"Tuesday\", \"Wednesday\", \"Thursday\", \"Friday\", \"Saturday\"):\n",
    "    print(day)"
   ]
  },
  {
   "cell_type": "code",
   "execution_count": null,
   "metadata": {},
   "outputs": [],
   "source": [
    "# Challenge: Can you use a loop structure to sequetially print out all the characters in a given word? \n",
    "# Hint: stringVariable[num] returns the num-th character in the stringVariable. "
   ]
  },
  {
   "cell_type": "code",
   "execution_count": null,
   "metadata": {},
   "outputs": [],
   "source": []
  }
 ],
 "metadata": {
  "kernelspec": {
   "display_name": "Python 3",
   "language": "python",
   "name": "python3"
  },
  "language_info": {
   "codemirror_mode": {
    "name": "ipython",
    "version": 3
   },
   "file_extension": ".py",
   "mimetype": "text/x-python",
   "name": "python",
   "nbconvert_exporter": "python",
   "pygments_lexer": "ipython3",
   "version": "3.9.1"
  }
 },
 "nbformat": 4,
 "nbformat_minor": 4
}
