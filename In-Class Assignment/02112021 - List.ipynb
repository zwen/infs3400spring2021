{
 "cells": [
  {
   "cell_type": "markdown",
   "metadata": {},
   "source": [
    "#### 1. Introduing List\n",
    "There are cases where you wish to store many similar values for a batch processing. For example, you want to enumerate all the phone numbers for your friend. Assuming that you have 20 friends, creating 20 different variables is not an efficient solution. In this case, **list** is a viable data structure solution. In other programming language, it is known as *array* or *vector*. \n",
    "**It is a variable that can store many different values inside**. "
   ]
  },
  {
   "cell_type": "code",
   "execution_count": null,
   "metadata": {},
   "outputs": [],
   "source": [
    "a = [\"john\", \"adams\", \"caleb\", \"regina\", \"anna\", \"jane\"]\n",
    "\n",
    "print(\"I have many friends, they are\", a)\n",
    "print(\"My second best friend is\", a[2])"
   ]
  },
  {
   "cell_type": "markdown",
   "metadata": {},
   "source": [
    "#### 2. Creating a List with Initial Values\n",
    "You can create a list by assining values 1) by using a ```list()``` function by passing a list object or 2) by directly assining a list object. "
   ]
  },
  {
   "cell_type": "code",
   "execution_count": null,
   "metadata": {},
   "outputs": [],
   "source": [
    "type([2, 3, 4, 5])"
   ]
  },
  {
   "cell_type": "code",
   "execution_count": null,
   "metadata": {},
   "outputs": [],
   "source": [
    "numericList1 = list([2, 3, 4, 5])\n",
    "numericList1"
   ]
  },
  {
   "cell_type": "code",
   "execution_count": null,
   "metadata": {},
   "outputs": [],
   "source": [
    "numericList2 = [2, 3, 4, 5]\n",
    "numericList2"
   ]
  },
  {
   "cell_type": "markdown",
   "metadata": {},
   "source": [
    "A list object is very flexible because you can store many different type of values at the same time. "
   ]
  },
  {
   "cell_type": "code",
   "execution_count": null,
   "metadata": {},
   "outputs": [],
   "source": [
    "comboList = [\"hello\", 2, False, 8.99]"
   ]
  },
  {
   "cell_type": "markdown",
   "metadata": {},
   "source": [
    "#### 3. Creating a List without Initial Values\n",
    "Sometimes you wish to create an empty list object, then add values as you go. In those occasions you can create an empty list like this. "
   ]
  },
  {
   "cell_type": "code",
   "execution_count": null,
   "metadata": {},
   "outputs": [],
   "source": [
    "emptyList1 = []\n",
    "emptyList2 = list()\n",
    "print(id(emptyList1), id(emptyList2))\n",
    "print(emptyList1, emptyList2)"
   ]
  },
  {
   "cell_type": "markdown",
   "metadata": {},
   "source": [
    "#### 4. List Methods\n",
    "A list object conveniently comes with many useful methods.\n",
    "1) it is the ```append(x)``` method. It adds the value of ```x``` at the end of the list."
   ]
  },
  {
   "cell_type": "code",
   "execution_count": null,
   "metadata": {},
   "outputs": [],
   "source": [
    "exampleList = []\n",
    "print(exampleList)\n",
    "exampleList.append(\"apple\")\n",
    "exampleList.append(\"pear\")\n",
    "exampleList.append(\"apple\")\n",
    "print(exampleList)"
   ]
  },
  {
   "cell_type": "markdown",
   "metadata": {},
   "source": [
    "2) ```remove(x)``` method removes the first occurence of ```x``` from the list."
   ]
  },
  {
   "cell_type": "code",
   "execution_count": null,
   "metadata": {},
   "outputs": [],
   "source": [
    "exampleList.remove(\"apple\")\n",
    "print(exampleList)"
   ]
  },
  {
   "cell_type": "markdown",
   "metadata": {},
   "source": [
    "#### A Short Exercise\n",
    "What is the following code block seeks to achieve? Would it work? How would you fix it? "
   ]
  },
  {
   "cell_type": "code",
   "execution_count": null,
   "metadata": {},
   "outputs": [],
   "source": [
    "exampleList.append([\"kimchi\", \"ramen\", \"pretzel\"])\n",
    "print(exampleList)"
   ]
  },
  {
   "cell_type": "markdown",
   "metadata": {},
   "source": [
    "#### Continue on List\n",
    "3) ```index(x)``` method eturns the index of the item ```x``` from the list. "
   ]
  },
  {
   "cell_type": "code",
   "execution_count": null,
   "metadata": {},
   "outputs": [],
   "source": [
    "a = exampleList.index(\"apple\")\n",
    "print(a)"
   ]
  },
  {
   "cell_type": "markdown",
   "metadata": {},
   "source": [
    "4) ```sort()``` method sorts in ascending order. "
   ]
  },
  {
   "cell_type": "code",
   "execution_count": null,
   "metadata": {},
   "outputs": [],
   "source": [
    "exampleList.sort()"
   ]
  },
  {
   "cell_type": "markdown",
   "metadata": {},
   "source": [
    "5) ```insert(i, x)``` method inserts ```x``` in the position of ```i```th index. "
   ]
  },
  {
   "cell_type": "code",
   "execution_count": null,
   "metadata": {},
   "outputs": [],
   "source": [
    "exampleList.insert(0, \"chocolate\")\n",
    "print(exampleList)"
   ]
  },
  {
   "cell_type": "markdown",
   "metadata": {},
   "source": [
    "#### 5. Accessing Values in a List\n",
    "```listObject[i]``` can be used to access a value within the list. The index ```i``` begins at ```0```, ends at ```len(listObject) - 1 ```"
   ]
  },
  {
   "cell_type": "code",
   "execution_count": null,
   "metadata": {},
   "outputs": [],
   "source": [
    "print(exampleList[3])"
   ]
  },
  {
   "cell_type": "code",
   "execution_count": null,
   "metadata": {},
   "outputs": [],
   "source": [
    "exampleList[3] = 'Kimchi'\n",
    "print(exampleList)"
   ]
  },
  {
   "cell_type": "markdown",
   "metadata": {},
   "source": [
    "To loop through all the values in a list using a ```for``` loop, "
   ]
  },
  {
   "cell_type": "code",
   "execution_count": null,
   "metadata": {},
   "outputs": [],
   "source": [
    "for index in range(len(exampleList)):\n",
    "    print(exampleList[index])"
   ]
  },
  {
   "cell_type": "markdown",
   "metadata": {},
   "source": [
    "```for``` loop can automatically loop through if the provided range is a list object. "
   ]
  },
  {
   "cell_type": "code",
   "execution_count": null,
   "metadata": {},
   "outputs": [],
   "source": [
    "for index in exampleList:\n",
    "    print(index)"
   ]
  },
  {
   "cell_type": "markdown",
   "metadata": {},
   "source": [
    "#### 6. Functions for a List Object\n",
    "We have used ```len()``` function to lookup the size of a list object. We also have a ```max()```, ```min()```, ```sum()``` functions and others."
   ]
  },
  {
   "cell_type": "code",
   "execution_count": null,
   "metadata": {},
   "outputs": [],
   "source": [
    "print(len(numericList))\n",
    "print(max(numericList))\n",
    "print(min(numericList))\n",
    "print(sum(numericList))"
   ]
  }
 ],
 "metadata": {
  "kernelspec": {
   "display_name": "Python 3",
   "language": "python",
   "name": "python3"
  },
  "language_info": {
   "codemirror_mode": {
    "name": "ipython",
    "version": 3
   },
   "file_extension": ".py",
   "mimetype": "text/x-python",
   "name": "python",
   "nbconvert_exporter": "python",
   "pygments_lexer": "ipython3",
   "version": "3.8.5"
  }
 },
 "nbformat": 4,
 "nbformat_minor": 4
}
